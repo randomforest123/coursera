{
  "nbformat": 4,
  "nbformat_minor": 0,
  "metadata": {
    "colab": {
      "name": "fit_example_v2.ipynb",
      "provenance": [],
      "include_colab_link": true
    },
    "kernelspec": {
      "name": "python3",
      "display_name": "Python 3"
    }
  },
  "cells": [
    {
      "cell_type": "markdown",
      "metadata": {
        "id": "view-in-github",
        "colab_type": "text"
      },
      "source": [
        "<a href=\"https://colab.research.google.com/github/randomforest123/coursera/blob/master/fit_example_v2.ipynb\" target=\"_parent\"><img src=\"https://colab.research.google.com/assets/colab-badge.svg\" alt=\"Open In Colab\"/></a>"
      ]
    },
    {
      "cell_type": "markdown",
      "metadata": {
        "id": "nV4UNcl-Lho5"
      },
      "source": [
        "Welcome to the pendulum lab!      \n",
        "You will find here example code in Python that YOU can run in Google Colab! :)"
      ]
    },
    {
      "cell_type": "code",
      "metadata": {
        "id": "KO379zYuLLte"
      },
      "source": [
        "import numpy as np\n",
        "from scipy import odr\n",
        "\n",
        "import matplotlib as mpl\n",
        "mpl.use(\"Agg\")\n",
        "import matplotlib.pyplot as plt\n",
        "mpl.style.use('classic')"
      ],
      "execution_count": null,
      "outputs": []
    },
    {
      "cell_type": "markdown",
      "metadata": {
        "id": "u-gYTZR7e7uJ"
      },
      "source": [
        "Mount your drive to save figures. This has to be done only once!"
      ]
    },
    {
      "cell_type": "code",
      "metadata": {
        "id": "gvJdeQT7e5ix"
      },
      "source": [
        "from google.colab import drive\n",
        "drive.mount(\"/content/gdrive/\")"
      ],
      "execution_count": null,
      "outputs": []
    },
    {
      "cell_type": "markdown",
      "metadata": {
        "id": "DR5hwhSmMNbG"
      },
      "source": [
        "The following cell defines a plot style to make good-looking plots (taken from the CMS experiment style)"
      ]
    },
    {
      "cell_type": "code",
      "metadata": {
        "id": "-YnCXGqYLZr3"
      },
      "source": [
        "CMS = {\n",
        "    \"mathtext.default\": \"regular\",\n",
        "    \"font.size\": 25,\n",
        "    \"axes.labelsize\": \"large\",\n",
        "    \"axes.unicode_minus\": False,\n",
        "    \"xtick.labelsize\": \"large\",\n",
        "    \"ytick.labelsize\": \"large\",\n",
        "    \"legend.fontsize\": \"large\",\n",
        "    \"legend.handlelength\": 1.5,\n",
        "    \"legend.borderpad\": 0.5,\n",
        "    \"legend.frameon\": False,\n",
        "    \"xtick.direction\": \"in\",\n",
        "    \"xtick.major.size\": 12,\n",
        "    \"xtick.minor.size\": 6,\n",
        "    \"xtick.major.pad\": 6,\n",
        "    \"xtick.top\": True,\n",
        "    \"xtick.major.top\": True,\n",
        "    \"xtick.major.bottom\": True,\n",
        "    \"xtick.minor.top\": True,\n",
        "    \"xtick.minor.bottom\": True,\n",
        "    \"xtick.minor.visible\": True,\n",
        "    \"ytick.direction\": \"in\",\n",
        "    \"ytick.major.size\": 12,\n",
        "    \"ytick.minor.size\": 6.0,\n",
        "    \"ytick.right\": True,\n",
        "    \"ytick.major.left\": True,\n",
        "    \"ytick.major.right\": True,\n",
        "    \"ytick.minor.left\": True,\n",
        "    \"ytick.minor.right\": True,\n",
        "    \"ytick.minor.visible\": True,\n",
        "    \"grid.alpha\": 0.8,\n",
        "    \"grid.linestyle\": \":\",\n",
        "    \"axes.linewidth\": 2,\n",
        "    \"savefig.transparent\": False,\n",
        "    \"figure.figsize\": (10.0, 10.0),\n",
        "    \"legend.numpoints\": 1,\n",
        "    \"lines.markersize\": 8,\n",
        "}\n",
        "\n",
        "for k, v in CMS.items():\n",
        "    plt.rcParams[k] = v"
      ],
      "execution_count": null,
      "outputs": []
    },
    {
      "cell_type": "markdown",
      "metadata": {
        "id": "ekf34CBwQg_B"
      },
      "source": [
        "Now let's write down your measurements! Here is an example of 3 measurements of the pendulum length and period:\n",
        "```\n",
        "L_measurements =  [32.5, 45.2, 53.8, 65.2]  # pendulum length in cm\n",
        "T_measurements =  [1.10, 1.29, 1.50, 1.59]  # pendulum period in s\n",
        "L_uncertainties = [2.  , 2.  , 2.5 , 3.  ]  # length uncertainty in cm\n",
        "T_uncertainties = [0.05, 0.05, 0.05, 0.05]  # period uncertainty in s\n",
        "```\n",
        "\n"
      ]
    },
    {
      "cell_type": "code",
      "metadata": {
        "id": "Q4TeR7RYQFEk"
      },
      "source": [
        "L_measurements =  []  # pendulum length in cm\n",
        "T_measurements =  []  # pendulum period in s\n",
        "L_uncertainties = []  # length uncertainty in cm\n",
        "T_uncertainties = []  # period uncertainty in s"
      ],
      "execution_count": null,
      "outputs": []
    },
    {
      "cell_type": "markdown",
      "metadata": {
        "id": "z0hOIspguiwN"
      },
      "source": [
        "Use numpy arrays as this will make code easier in the following:"
      ]
    },
    {
      "cell_type": "code",
      "metadata": {
        "id": "911M2pWTTy1F"
      },
      "source": [
        "L_measurements =  np.array(L_measurements)\n",
        "T_measurements =  np.array(T_measurements)\n",
        "L_uncertainties = np.array(L_uncertainties)\n",
        "T_uncertainties = np.array(T_uncertainties)"
      ],
      "execution_count": null,
      "outputs": []
    },
    {
      "cell_type": "markdown",
      "metadata": {
        "id": "7ocX7lSYEXCX"
      },
      "source": [
        "If you put wrote measurements in cm, convert to m:"
      ]
    },
    {
      "cell_type": "code",
      "metadata": {
        "id": "53bxKkJdEWXP"
      },
      "source": [
        "L_measurements =  0.01 * L_measurements\n",
        "L_uncertainties = 0.01 * L_uncertainties"
      ],
      "execution_count": null,
      "outputs": []
    },
    {
      "cell_type": "markdown",
      "metadata": {
        "id": "5T_J6sux6FvM"
      },
      "source": [
        "Now let's do a fit of $L$ versus $T^2$:"
      ]
    },
    {
      "cell_type": "code",
      "metadata": {
        "colab": {
          "base_uri": "https://localhost:8080/"
        },
        "id": "Pd83_z5_6Ptm",
        "outputId": "0c3e150b-b66b-48eb-8c9a-430dc9b2d221"
      },
      "source": [
        "# Create a model for fitting\n",
        "def linear_function(a, x):\n",
        "    \"\"\"f(x) = a*x\"\"\"\n",
        "    return a*x\n",
        "linear_model = odr.Model(linear_function)\n",
        "\n",
        "# Create a RealData object using our initiated data from above\n",
        "x = ...\n",
        "y = ...\n",
        "x_err = ...\n",
        "y_err = ...\n",
        "data = odr.RealData(x, y, sx=x_err, sy=y_err)\n",
        "\n",
        "# Set up Orthogonal Distance Regression (ODR) with the model and data\n",
        "# beta0 corresponds to initial values for the model parameters, use 1. as default\n",
        "regression = odr.ODR(data, linear_model, beta0=[1.])\n",
        "\n",
        "# Run the regression\n",
        "out = regression.run()\n",
        "\n",
        "# Use the in-built pprint method to give us results\n",
        "#out.pprint()\n",
        "\n",
        "# out.beta[0] (resp. out.sd_beta[0]) corresponds to the fitted slope (resp. uncertainty on slope)\n",
        "print(\"Fit coefficient: a = %.2f +- %.2f\" %(out.beta[0], out.sd_beta[0]))\n",
        "\n",
        "# Calculated value for g\n",
        "g_fit = ...\n",
        "g_fit_uncertainty = ...\n",
        "print(\"\\nFit:\")\n",
        "print(\"g = %.2f +- %.2f\" %(g_fit, g_fit_uncertainty))"
      ],
      "execution_count": null,
      "outputs": [
        {
          "output_type": "stream",
          "text": [
            "Fit coefficient: a = 0.26 +- 0.01\n",
            "\n",
            "Fit:\n",
            "g = 10.17 +- 0.29\n"
          ],
          "name": "stdout"
        }
      ]
    },
    {
      "cell_type": "markdown",
      "metadata": {
        "id": "n01N6s9Z8cLt"
      },
      "source": [
        "Plot data and the fit:"
      ]
    },
    {
      "cell_type": "code",
      "metadata": {
        "id": "SdFnP1hZ8Ont",
        "colab": {
          "base_uri": "https://localhost:8080/",
          "height": 300
        },
        "outputId": "ae8d63d5-d069-4539-f774-a7b0fb7c9be8"
      },
      "source": [
        "%matplotlib inline\n",
        "\n",
        "plt.figure()\n",
        "\n",
        "# Draw data\n",
        "plt.errorbar(x, y, xerr=x_err, yerr=y_err,\n",
        "             label=\"Data\",\n",
        "             linestyle='None', marker='o', mew=0, mfc=\"b\"\n",
        "            )\n",
        "\n",
        "# Draw fit\n",
        "x1, x2 = plt.xlim()\n",
        "x_fit = np.linspace(x1, x2, 10)\n",
        "y_fit = linear_function(out.beta, x_fit)\n",
        "\n",
        "plt.plot(x_fit, y_fit, \"r-\", label=\"ODR fit: g = %.2f $\\pm$ %.2f m.s$^2$\" %(g_fit, g_fit_uncertainty))\n",
        "\n",
        "# Draw axis label\n",
        "plt.xlabel(\"Pendulum period squared $T^2$ [s$^2$]\")\n",
        "plt.ylabel(\"Pendulum length $L$ [m]\")\n",
        "\n",
        "# Draw legend\n",
        "plt.legend(loc='upper left', bbox_to_anchor=(0.03, 0.98))\n",
        "\n",
        "# Save file in your drive\n",
        "# You can change the path to any other directory that you prefer\n",
        "plt.savefig(\"/content/gdrive/My Drive/fit.pdf\")"
      ],
      "execution_count": null,
      "outputs": [
        {
          "output_type": "display_data",
          "data": {
            "image/png": "[encoded data removed]",
            "text/plain": [
              "<Figure size 432x288 with 1 Axes>"
            ]
          },
          "metadata": {
            "tags": [],
            "needs_background": "light"
          }
        }
      ]
    },
    {
      "cell_type": "code",
      "metadata": {
        "id": "3hzHsL6W-d2I"
      },
      "source": [
        ""
      ],
      "execution_count": null,
      "outputs": []
    }
  ]
}